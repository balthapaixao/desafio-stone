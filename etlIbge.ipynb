{
 "metadata": {
  "language_info": {
   "codemirror_mode": {
    "name": "ipython",
    "version": 3
   },
   "file_extension": ".py",
   "mimetype": "text/x-python",
   "name": "python",
   "nbconvert_exporter": "python",
   "pygments_lexer": "ipython3",
   "version": 3
  },
  "orig_nbformat": 2
 },
 "nbformat": 4,
 "nbformat_minor": 2,
 "cells": [
  {
   "cell_type": "code",
   "execution_count": null,
   "metadata": {},
   "outputs": [],
   "source": [
    "import requests\n",
    "import json\n",
    "import numpy as np \n",
    "import pandas as pd\n",
    "import sqlalchemy"
   ]
  },
  {
   "source": [
    "# ET"
   ],
   "cell_type": "markdown",
   "metadata": {}
  },
  {
   "cell_type": "code",
   "execution_count": null,
   "metadata": {},
   "outputs": [],
   "source": [
    "def extractTransformIbge():\n",
    "    '''Retorna dataframe com municipios e estado segundo a API do IBGE para Merge'''\n",
    "    api_response = requests.get(\"https://servicodados.ibge.gov.br/api/v1/localidades/municipios\").json()\n",
    "    cidades = [municipio['nome'] for municipio in api_response]\n",
    "    estados = [municipio['microrregiao']['mesorregiao'][\"UF\"][\"sigla\"] for municipio in api_response]\n",
    "    df_ibge = pd.DataFrame(data = {\"municipios\":cidades,\n",
    "                                   'estados':estados})\n",
    "    return df_ibge"
   ]
  },
  {
   "source": [
    "# L"
   ],
   "cell_type": "markdown",
   "metadata": {}
  },
  {
   "cell_type": "code",
   "execution_count": null,
   "metadata": {},
   "outputs": [],
   "source": [
    "db = 'postgresql+psycopg2'\n",
    "user = 'airflow'\n",
    "pwd = 'airflow'\n",
    "host = '0.0.0.0'\n",
    "port = '5432'\n",
    "db_name = 'airflow'\n",
    "\n",
    "db_engine = create_engine(f\"{db}://{user}:{pwd}@{host}:{port}/{db_name}\")\n",
    "db_engine.connect()"
   ]
  },
  {
   "cell_type": "code",
   "execution_count": null,
   "metadata": {},
   "outputs": [],
   "source": [
    "df_ibge.to_sql(\"ibge\", db_engine_ibge, if_exists='replace')"
   ]
  },
  {
   "cell_type": "code",
   "execution_count": null,
   "metadata": {},
   "outputs": [],
   "source": [
    "def connectDB():\n",
    "    db = 'postgresql+psycopg2'\n",
    "    user = 'airflow'\n",
    "    pwd = 'airflow'\n",
    "    host = '0.0.0.0'\n",
    "    port = '5432'\n",
    "    db_name = 'airflow'\n",
    "\n",
    "    db_engine = create_engine(f\"{db}://{user}:{pwd}@{host}:{port}/{db_name}\")\n",
    "    db_engine.connect()\n",
    "    return db_engine\n"
   ]
  },
  {
   "cell_type": "code",
   "execution_count": null,
   "metadata": {},
   "outputs": [],
   "source": [
    "def LoadPostrges(df, db_name, engine):\n",
    "        df.to_sql(db_name, engine, if_exists='replace')"
   ]
  }
 ]
}