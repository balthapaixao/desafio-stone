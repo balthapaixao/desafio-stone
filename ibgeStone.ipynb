{
 "metadata": {
  "language_info": {
   "codemirror_mode": {
    "name": "ipython",
    "version": 3
   },
   "file_extension": ".py",
   "mimetype": "text/x-python",
   "name": "python",
   "nbconvert_exporter": "python",
   "pygments_lexer": "ipython3",
   "version": "3.8.3-final"
  },
  "orig_nbformat": 2,
  "kernelspec": {
   "name": "python3",
   "display_name": "Python 3",
   "language": "python"
  }
 },
 "nbformat": 4,
 "nbformat_minor": 2,
 "cells": [
  {
   "cell_type": "code",
   "execution_count": 2,
   "metadata": {},
   "outputs": [],
   "source": [
    "import requests\n",
    "import json\n",
    "import numpy as np \n",
    "import pandas as pd\n",
    "import sqlalchemy"
   ]
  },
  {
   "cell_type": "code",
   "execution_count": null,
   "metadata": {},
   "outputs": [],
   "source": [
    "def extractTransformIbge():\n",
    "    '''Retorna dataframe com municipios e estado segundo a API do IBGE para Merge'''\n",
    "    api_response = requests.get(\"https://servicodados.ibge.gov.br/api/v1/localidades/municipios\").json()\n",
    "    cidades = [municipio['nome'] for municipio in api_response]\n",
    "    estados = [municipio['microrregiao']['mesorregiao'][\"UF\"][\"sigla\"] for municipio in api_response]\n",
    "    df_ibge = pd.DataFrame(data = {\"municipios\":cidades,\n",
    "                                   'estados':estados})\n",
    "    \n",
    "    return df_ibge"
   ]
  },
  {
   "cell_type": "code",
   "execution_count": null,
   "metadata": {},
   "outputs": [],
   "source": [
    "def loadPostrges():\n",
    "    "
   ]
  }
 ]
}