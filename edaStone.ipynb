{
 "cells": [
  {
   "cell_type": "code",
   "execution_count": 1,
   "metadata": {},
   "outputs": [],
   "source": [
    "import requests\n",
    "import numpy as np\n",
    "import pandas as pd"
   ]
  },
  {
   "source": [
    "from airflow.models import DAG\n",
    "\n",
    "from airflow.operators.python_operator import PythonOperator\n",
    "\n",
    "dag = DAG(dag_id=\"etl_pipeline\",\n",
    "\n",
    "schedule_interval=\"0 0 * * *\")\n",
    "\n",
    "etl_task = PythonOperator(task_id=\"etl_task\",\n",
    "\n",
    "python_callable=etl,\n",
    "\n",
    "dag=dag)\n",
    "\n",
    "etl_task.set_upstream(wait_for_this_task)"
   ],
   "cell_type": "markdown",
   "metadata": {}
  },
  {
   "cell_type": "code",
   "execution_count": 2,
   "metadata": {},
   "outputs": [],
   "source": [
    "df_vagas = pd.read_csv(\"../stone2/data/jobs.csv\", sep=\";\") \n",
    "df_inscritos = pd.read_csv(\"../stone2/data/applications.csv\", sep=\";\")"
   ]
  },
  {
   "cell_type": "code",
   "execution_count": 3,
   "metadata": {},
   "outputs": [],
   "source": [
    "getCity = lambda lista: lista[-1].strip()\n",
    "getJob = lambda lista: lista[-2].strip()"
   ]
  },
  {
   "cell_type": "code",
   "execution_count": 4,
   "metadata": {},
   "outputs": [],
   "source": [
    "splitted_job = df_vagas.job_name.str.split(\"-\")\n",
    "\n",
    "df_vagas['cidade'] = [getCity(row) for row in splitted_job]\n",
    "df_vagas['cargo'] = [getJob(row) if len(row) > 1 else None for row in splitted_job]"
   ]
  },
  {
   "cell_type": "code",
   "execution_count": 5,
   "metadata": {},
   "outputs": [
    {
     "output_type": "execute_result",
     "data": {
      "text/plain": [
       "Salvador              2\n",
       "Cascavel              2\n",
       "São Bento do Sul      2\n",
       "Porto Alegre          2\n",
       "Campo Grande          2\n",
       "                     ..\n",
       "Cuiabá                1\n",
       "Florianópolis         1\n",
       "Primavera do Leste    1\n",
       "Petrópolis            1\n",
       "Campo Mourão          1\n",
       "Name: cidade, Length: 271, dtype: int64"
      ]
     },
     "metadata": {},
     "execution_count": 5
    }
   ],
   "source": [
    "\n",
    "df_vagas.cidade.value_counts()"
   ]
  },
  {
   "cell_type": "code",
   "execution_count": 6,
   "metadata": {},
   "outputs": [
    {
     "output_type": "execute_result",
     "data": {
      "text/plain": [
       "Consultor Comercial Externo     99\n",
       "Consultor Comercial             68\n",
       "Agente Stone                    66\n",
       "                                11\n",
       "BA                               4\n",
       "S                                3\n",
       "BA 2                             2\n",
       "SEAL                             2\n",
       "E                                2\n",
       "2                                2\n",
       "PE                               2\n",
       "PB                               2\n",
       "CE                               1\n",
       "PMS                              1\n",
       "ES                               1\n",
       "C E                              1\n",
       "Ji                               1\n",
       "L                                1\n",
       "Consultor Comercial  Externo     1\n",
       "PBRN                             1\n",
       "Name: cargo, dtype: int64"
      ]
     },
     "metadata": {},
     "execution_count": 6
    }
   ],
   "source": [
    "\n",
    "df_vagas.cargo.value_counts()"
   ]
  },
  {
   "cell_type": "code",
   "execution_count": 7,
   "metadata": {},
   "outputs": [
    {
     "output_type": "stream",
     "name": "stdout",
     "text": [
      "276\n276\n"
     ]
    }
   ],
   "source": [
    "print(len(df_vagas))\n",
    "print(len(df_vagas.job_id.unique()))"
   ]
  },
  {
   "cell_type": "code",
   "execution_count": 8,
   "metadata": {},
   "outputs": [],
   "source": [
    "def cleanJob(col):\n",
    "    reps = {\n",
    "    'valores_validos': ['Consultor Comercial Externo',\n",
    "                        'Consultor Comercial',\n",
    "                        'Agente Stone'],\n",
    "    'valor_reposicao': np.nan\n",
    "    }\n",
    "    col = col.replace('Consultor Comercial  Externo', 'Consultor Comercial Externo')\n",
    "    col = col.where(col.isin(reps['valores_validos']), reps['valor_reposicao'])\n",
    "    return col\n",
    "    "
   ]
  },
  {
   "cell_type": "code",
   "execution_count": 9,
   "metadata": {},
   "outputs": [],
   "source": [
    "df_vagas['cargo'] = cleanJob(df_vagas['cargo'])"
   ]
  },
  {
   "cell_type": "code",
   "execution_count": 10,
   "metadata": {},
   "outputs": [
    {
     "output_type": "execute_result",
     "data": {
      "text/plain": [
       "      job_id                                           job_name  \\\n",
       "0    1679689                                 - Feira de Santana   \n",
       "1    1210619                                        - Itabaiana   \n",
       "2    1623539                                          - Mossoró   \n",
       "3    1216644                                       - Parnamirim   \n",
       "4    1723540                                         - Salvador   \n",
       "..       ...                                                ...   \n",
       "271  1728998                                           - Recife   \n",
       "272  1192982                            - Vale do São Francisco   \n",
       "273  1170258                                           - Sobral   \n",
       "274  1245731  Teste Unico - Agente Stone - Consultor Comerci...   \n",
       "275  1275685  Teste Unico - Agente Stone - Consultor Comerci...   \n",
       "\n",
       "                    cidade                cargo  \n",
       "0         Feira de Santana                  NaN  \n",
       "1                Itabaiana                  NaN  \n",
       "2                  Mossoró                  NaN  \n",
       "3               Parnamirim                  NaN  \n",
       "4                 Salvador                  NaN  \n",
       "..                     ...                  ...  \n",
       "271                 Recife                  NaN  \n",
       "272  Vale do São Francisco                  NaN  \n",
       "273                 Sobral                  NaN  \n",
       "274           Porto Alegre  Consultor Comercial  \n",
       "275               Salvador  Consultor Comercial  \n",
       "\n",
       "[276 rows x 4 columns]"
      ],
      "text/html": "<div>\n<style scoped>\n    .dataframe tbody tr th:only-of-type {\n        vertical-align: middle;\n    }\n\n    .dataframe tbody tr th {\n        vertical-align: top;\n    }\n\n    .dataframe thead th {\n        text-align: right;\n    }\n</style>\n<table border=\"1\" class=\"dataframe\">\n  <thead>\n    <tr style=\"text-align: right;\">\n      <th></th>\n      <th>job_id</th>\n      <th>job_name</th>\n      <th>cidade</th>\n      <th>cargo</th>\n    </tr>\n  </thead>\n  <tbody>\n    <tr>\n      <th>0</th>\n      <td>1679689</td>\n      <td>- Feira de Santana</td>\n      <td>Feira de Santana</td>\n      <td>NaN</td>\n    </tr>\n    <tr>\n      <th>1</th>\n      <td>1210619</td>\n      <td>- Itabaiana</td>\n      <td>Itabaiana</td>\n      <td>NaN</td>\n    </tr>\n    <tr>\n      <th>2</th>\n      <td>1623539</td>\n      <td>- Mossoró</td>\n      <td>Mossoró</td>\n      <td>NaN</td>\n    </tr>\n    <tr>\n      <th>3</th>\n      <td>1216644</td>\n      <td>- Parnamirim</td>\n      <td>Parnamirim</td>\n      <td>NaN</td>\n    </tr>\n    <tr>\n      <th>4</th>\n      <td>1723540</td>\n      <td>- Salvador</td>\n      <td>Salvador</td>\n      <td>NaN</td>\n    </tr>\n    <tr>\n      <th>...</th>\n      <td>...</td>\n      <td>...</td>\n      <td>...</td>\n      <td>...</td>\n    </tr>\n    <tr>\n      <th>271</th>\n      <td>1728998</td>\n      <td>- Recife</td>\n      <td>Recife</td>\n      <td>NaN</td>\n    </tr>\n    <tr>\n      <th>272</th>\n      <td>1192982</td>\n      <td>- Vale do São Francisco</td>\n      <td>Vale do São Francisco</td>\n      <td>NaN</td>\n    </tr>\n    <tr>\n      <th>273</th>\n      <td>1170258</td>\n      <td>- Sobral</td>\n      <td>Sobral</td>\n      <td>NaN</td>\n    </tr>\n    <tr>\n      <th>274</th>\n      <td>1245731</td>\n      <td>Teste Unico - Agente Stone - Consultor Comerci...</td>\n      <td>Porto Alegre</td>\n      <td>Consultor Comercial</td>\n    </tr>\n    <tr>\n      <th>275</th>\n      <td>1275685</td>\n      <td>Teste Unico - Agente Stone - Consultor Comerci...</td>\n      <td>Salvador</td>\n      <td>Consultor Comercial</td>\n    </tr>\n  </tbody>\n</table>\n<p>276 rows × 4 columns</p>\n</div>"
     },
     "metadata": {},
     "execution_count": 10
    }
   ],
   "source": [
    "df_vagas"
   ]
  },
  {
   "cell_type": "code",
   "execution_count": 11,
   "metadata": {},
   "outputs": [
    {
     "output_type": "execute_result",
     "data": {
      "text/plain": [
       "   application_id   job_id application_stage\n",
       "0         2900991  1127750       interview 1\n",
       "1         2447626  1359157       interview 1\n",
       "2         2838222  1448786             offer\n",
       "3         2281269  1084916       interview 1\n",
       "4         2533105  1931363           applied"
      ],
      "text/html": "<div>\n<style scoped>\n    .dataframe tbody tr th:only-of-type {\n        vertical-align: middle;\n    }\n\n    .dataframe tbody tr th {\n        vertical-align: top;\n    }\n\n    .dataframe thead th {\n        text-align: right;\n    }\n</style>\n<table border=\"1\" class=\"dataframe\">\n  <thead>\n    <tr style=\"text-align: right;\">\n      <th></th>\n      <th>application_id</th>\n      <th>job_id</th>\n      <th>application_stage</th>\n    </tr>\n  </thead>\n  <tbody>\n    <tr>\n      <th>0</th>\n      <td>2900991</td>\n      <td>1127750</td>\n      <td>interview 1</td>\n    </tr>\n    <tr>\n      <th>1</th>\n      <td>2447626</td>\n      <td>1359157</td>\n      <td>interview 1</td>\n    </tr>\n    <tr>\n      <th>2</th>\n      <td>2838222</td>\n      <td>1448786</td>\n      <td>offer</td>\n    </tr>\n    <tr>\n      <th>3</th>\n      <td>2281269</td>\n      <td>1084916</td>\n      <td>interview 1</td>\n    </tr>\n    <tr>\n      <th>4</th>\n      <td>2533105</td>\n      <td>1931363</td>\n      <td>applied</td>\n    </tr>\n  </tbody>\n</table>\n</div>"
     },
     "metadata": {},
     "execution_count": 11
    }
   ],
   "source": [
    "df_inscritos.head()"
   ]
  },
  {
   "cell_type": "code",
   "execution_count": 50,
   "metadata": {},
   "outputs": [],
   "source": [
    "df_inscritosVagas = df_inscritos.merge(df_vagas, left_on='job_id', right_on='job_id').drop(columns=['job_name'])"
   ]
  },
  {
   "cell_type": "code",
   "execution_count": 51,
   "metadata": {},
   "outputs": [],
   "source": [
    "def generateId(row):\n",
    "    pkRow = f'{row[\"application_id\"]}_{\"\".join(row[\"application_stage\"].split(\" \"))}'\n",
    "    return pkRow"
   ]
  },
  {
   "source": [
    "df_inscritosVagas['id'] = df_inscritosVagas.apply(generateId, axis=1)"
   ],
   "cell_type": "markdown",
   "metadata": {}
  },
  {
   "cell_type": "code",
   "execution_count": 52,
   "metadata": {},
   "outputs": [
    {
     "output_type": "execute_result",
     "data": {
      "text/plain": [
       "Consultor Comercial Externo    17264\n",
       "Consultor Comercial             6952\n",
       "Agente Stone                     926\n",
       "Name: cargo, dtype: int64"
      ]
     },
     "metadata": {},
     "execution_count": 52
    }
   ],
   "source": [
    "df_inscritosVagas.cargo.value_counts()"
   ]
  },
  {
   "cell_type": "code",
   "execution_count": 53,
   "metadata": {},
   "outputs": [
    {
     "output_type": "execute_result",
     "data": {
      "text/plain": [
       "   application_id   job_id application_stage    cidade         cargo\n",
       "0         2900991  1127750       interview 1  Brasília  Agente Stone\n",
       "1         2544859  1127750       interview 1  Brasília  Agente Stone\n",
       "2         2401778  1127750       interview 1  Brasília  Agente Stone\n",
       "3         2290793  1127750       interview 1  Brasília  Agente Stone\n",
       "4         2011363  1127750       interview 1  Brasília  Agente Stone"
      ],
      "text/html": "<div>\n<style scoped>\n    .dataframe tbody tr th:only-of-type {\n        vertical-align: middle;\n    }\n\n    .dataframe tbody tr th {\n        vertical-align: top;\n    }\n\n    .dataframe thead th {\n        text-align: right;\n    }\n</style>\n<table border=\"1\" class=\"dataframe\">\n  <thead>\n    <tr style=\"text-align: right;\">\n      <th></th>\n      <th>application_id</th>\n      <th>job_id</th>\n      <th>application_stage</th>\n      <th>cidade</th>\n      <th>cargo</th>\n    </tr>\n  </thead>\n  <tbody>\n    <tr>\n      <th>0</th>\n      <td>2900991</td>\n      <td>1127750</td>\n      <td>interview 1</td>\n      <td>Brasília</td>\n      <td>Agente Stone</td>\n    </tr>\n    <tr>\n      <th>1</th>\n      <td>2544859</td>\n      <td>1127750</td>\n      <td>interview 1</td>\n      <td>Brasília</td>\n      <td>Agente Stone</td>\n    </tr>\n    <tr>\n      <th>2</th>\n      <td>2401778</td>\n      <td>1127750</td>\n      <td>interview 1</td>\n      <td>Brasília</td>\n      <td>Agente Stone</td>\n    </tr>\n    <tr>\n      <th>3</th>\n      <td>2290793</td>\n      <td>1127750</td>\n      <td>interview 1</td>\n      <td>Brasília</td>\n      <td>Agente Stone</td>\n    </tr>\n    <tr>\n      <th>4</th>\n      <td>2011363</td>\n      <td>1127750</td>\n      <td>interview 1</td>\n      <td>Brasília</td>\n      <td>Agente Stone</td>\n    </tr>\n  </tbody>\n</table>\n</div>"
     },
     "metadata": {},
     "execution_count": 53
    }
   ],
   "source": [
    "df_inscritosVagas.head()"
   ]
  },
  {
   "cell_type": "code",
   "execution_count": 54,
   "metadata": {},
   "outputs": [
    {
     "output_type": "execute_result",
     "data": {
      "text/plain": [
       "(28288, 5)"
      ]
     },
     "metadata": {},
     "execution_count": 54
    }
   ],
   "source": [
    "df_inscritosVagas.shape"
   ]
  },
  {
   "cell_type": "code",
   "execution_count": 55,
   "metadata": {},
   "outputs": [
    {
     "output_type": "execute_result",
     "data": {
      "text/plain": [
       "27893"
      ]
     },
     "metadata": {},
     "execution_count": 55
    }
   ],
   "source": [
    "len(df_inscritosVagas['application_id'].unique())"
   ]
  },
  {
   "cell_type": "code",
   "execution_count": 56,
   "metadata": {},
   "outputs": [],
   "source": [
    "from configparser import ConfigParser\n",
    "import psycopg2\n",
    "import psycopg2.extras as psql_extras\n",
    "import pandas as pd\n",
    "from typing import Dict"
   ]
  },
  {
   "source": [
    "host=localhost\n",
    "database=houses\n",
    "user=postgres\n",
    "password=postgres"
   ],
   "cell_type": "markdown",
   "metadata": {}
  },
  {
   "cell_type": "code",
   "execution_count": null,
   "metadata": {},
   "outputs": [],
   "source": []
  },
  {
   "cell_type": "code",
   "execution_count": null,
   "metadata": {},
   "outputs": [],
   "source": []
  },
  {
   "cell_type": "code",
   "execution_count": 57,
   "metadata": {},
   "outputs": [],
   "source": [
    "import sqlalchemy\n",
    "from sqlalchemy import create_engine, Table, MetaData\n",
    "from sqlalchemy.orm import scoped_session, sessionmaker"
   ]
  },
  {
   "cell_type": "code",
   "execution_count": 58,
   "metadata": {},
   "outputs": [],
   "source": [
    "db = 'postgresql+psycopg2'\n",
    "user = 'airflow'\n",
    "pwd = 'airflow'\n",
    "host = '0.0.0.0'\n",
    "port = '5432'\n",
    "db_name = 'airflow'\n",
    "\n",
    "db_engine = create_engine(f\"{db}://{user}:{pwd}@{host}:{port}/{db_name}\")"
   ]
  },
  {
   "cell_type": "code",
   "execution_count": 59,
   "metadata": {},
   "outputs": [
    {
     "output_type": "execute_result",
     "data": {
      "text/plain": [
       "<sqlalchemy.engine.base.Connection at 0x7fe8c3df88b0>"
      ]
     },
     "metadata": {},
     "execution_count": 59
    }
   ],
   "source": [
    "db_engine.connect()"
   ]
  },
  {
   "cell_type": "code",
   "execution_count": 60,
   "metadata": {},
   "outputs": [],
   "source": [
    "connection = db_engine.raw_connection()\n",
    "cursor = connection.cursor()"
   ]
  },
  {
   "cell_type": "code",
   "execution_count": 61,
   "metadata": {},
   "outputs": [
    {
     "output_type": "execute_result",
     "data": {
      "text/plain": [
       "       application_id   job_id application_stage              cidade  \\\n",
       "0             2900991  1127750       interview 1            Brasília   \n",
       "1             2544859  1127750       interview 1            Brasília   \n",
       "2             2401778  1127750       interview 1            Brasília   \n",
       "3             2290793  1127750       interview 1            Brasília   \n",
       "4             2011363  1127750       interview 1            Brasília   \n",
       "...               ...      ...               ...                 ...   \n",
       "28283         2257231  1391033       interview 2  Primavera do Leste   \n",
       "28284         2247124  1674192       interview 1           Concórdia   \n",
       "28285         2424231  1674192       interview 2           Concórdia   \n",
       "28286         2814160  1881895             offer           Itumbiara   \n",
       "28287         2496234  1230796       interview 2          Nova Mutum   \n",
       "\n",
       "                             cargo  \n",
       "0                     Agente Stone  \n",
       "1                     Agente Stone  \n",
       "2                     Agente Stone  \n",
       "3                     Agente Stone  \n",
       "4                     Agente Stone  \n",
       "...                            ...  \n",
       "28283                 Agente Stone  \n",
       "28284  Consultor Comercial Externo  \n",
       "28285  Consultor Comercial Externo  \n",
       "28286                 Agente Stone  \n",
       "28287                 Agente Stone  \n",
       "\n",
       "[28288 rows x 5 columns]"
      ],
      "text/html": "<div>\n<style scoped>\n    .dataframe tbody tr th:only-of-type {\n        vertical-align: middle;\n    }\n\n    .dataframe tbody tr th {\n        vertical-align: top;\n    }\n\n    .dataframe thead th {\n        text-align: right;\n    }\n</style>\n<table border=\"1\" class=\"dataframe\">\n  <thead>\n    <tr style=\"text-align: right;\">\n      <th></th>\n      <th>application_id</th>\n      <th>job_id</th>\n      <th>application_stage</th>\n      <th>cidade</th>\n      <th>cargo</th>\n    </tr>\n  </thead>\n  <tbody>\n    <tr>\n      <th>0</th>\n      <td>2900991</td>\n      <td>1127750</td>\n      <td>interview 1</td>\n      <td>Brasília</td>\n      <td>Agente Stone</td>\n    </tr>\n    <tr>\n      <th>1</th>\n      <td>2544859</td>\n      <td>1127750</td>\n      <td>interview 1</td>\n      <td>Brasília</td>\n      <td>Agente Stone</td>\n    </tr>\n    <tr>\n      <th>2</th>\n      <td>2401778</td>\n      <td>1127750</td>\n      <td>interview 1</td>\n      <td>Brasília</td>\n      <td>Agente Stone</td>\n    </tr>\n    <tr>\n      <th>3</th>\n      <td>2290793</td>\n      <td>1127750</td>\n      <td>interview 1</td>\n      <td>Brasília</td>\n      <td>Agente Stone</td>\n    </tr>\n    <tr>\n      <th>4</th>\n      <td>2011363</td>\n      <td>1127750</td>\n      <td>interview 1</td>\n      <td>Brasília</td>\n      <td>Agente Stone</td>\n    </tr>\n    <tr>\n      <th>...</th>\n      <td>...</td>\n      <td>...</td>\n      <td>...</td>\n      <td>...</td>\n      <td>...</td>\n    </tr>\n    <tr>\n      <th>28283</th>\n      <td>2257231</td>\n      <td>1391033</td>\n      <td>interview 2</td>\n      <td>Primavera do Leste</td>\n      <td>Agente Stone</td>\n    </tr>\n    <tr>\n      <th>28284</th>\n      <td>2247124</td>\n      <td>1674192</td>\n      <td>interview 1</td>\n      <td>Concórdia</td>\n      <td>Consultor Comercial Externo</td>\n    </tr>\n    <tr>\n      <th>28285</th>\n      <td>2424231</td>\n      <td>1674192</td>\n      <td>interview 2</td>\n      <td>Concórdia</td>\n      <td>Consultor Comercial Externo</td>\n    </tr>\n    <tr>\n      <th>28286</th>\n      <td>2814160</td>\n      <td>1881895</td>\n      <td>offer</td>\n      <td>Itumbiara</td>\n      <td>Agente Stone</td>\n    </tr>\n    <tr>\n      <th>28287</th>\n      <td>2496234</td>\n      <td>1230796</td>\n      <td>interview 2</td>\n      <td>Nova Mutum</td>\n      <td>Agente Stone</td>\n    </tr>\n  </tbody>\n</table>\n<p>28288 rows × 5 columns</p>\n</div>"
     },
     "metadata": {},
     "execution_count": 61
    }
   ],
   "source": [
    "df_inscritosVagas"
   ]
  },
  {
   "cell_type": "code",
   "execution_count": 62,
   "metadata": {},
   "outputs": [
    {
     "output_type": "execute_result",
     "data": {
      "text/plain": [
       "Index(['application_id', 'job_id', 'application_stage', 'cidade', 'cargo'], dtype='object')"
      ]
     },
     "metadata": {},
     "execution_count": 62
    }
   ],
   "source": [
    "df_inscritosVagas.columns"
   ]
  },
  {
   "cell_type": "code",
   "execution_count": 68,
   "metadata": {},
   "outputs": [],
   "source": [
    "df_inscritosVagas.to_sql(\"stone\", db_engine, if_exists='replace')"
   ]
  },
  {
   "cell_type": "code",
   "execution_count": 69,
   "metadata": {
    "tags": [
     "outputPrepend"
    ]
   },
   "outputs": [
    {
     "output_type": "stream",
     "name": "stdout",
     "text": [
      "ltor Comercial Externo')\n",
      "(28011, 2200531, 1061121, 'interview 1', 'São Bento do Sul', 'Consultor Comercial Externo')\n",
      "(28012, 2137633, 1061121, 'interview 1', 'São Bento do Sul', 'Consultor Comercial Externo')\n",
      "(28013, 2123463, 1061121, 'offer', 'São Bento do Sul', 'Consultor Comercial Externo')\n",
      "(28014, 2678139, 1061121, 'applied', 'São Bento do Sul', 'Consultor Comercial Externo')\n",
      "(28015, 2570856, 1061121, 'applied', 'São Bento do Sul', 'Consultor Comercial Externo')\n",
      "(28016, 2758884, 1061121, 'applied', 'São Bento do Sul', 'Consultor Comercial Externo')\n",
      "(28017, 2268216, 1061121, 'interview 2', 'São Bento do Sul', 'Consultor Comercial Externo')\n",
      "(28018, 2687499, 1671174, 'applied', 'Marabá', 'Agente Stone')\n",
      "(28019, 2502584, 1671174, 'applied', 'Marabá', 'Agente Stone')\n",
      "(28020, 2322484, 1671174, 'offer', 'Marabá', 'Agente Stone')\n",
      "(28021, 2915439, 1671174, 'applied', 'Marabá', 'Agente Stone')\n",
      "(28022, 2205336, 1671174, 'interview 2', 'Marabá', 'Agente Stone')\n",
      "(28023, 2136093, 1671174, 'applied', 'Marabá', 'Agente Stone')\n",
      "(28024, 2326438, 1834742, 'interview 1', 'Colatina', None)\n",
      "(28025, 2083374, 1834742, 'interview 1', 'Colatina', None)\n",
      "(28026, 2372221, 1834742, 'interview 1', 'Colatina', None)\n",
      "(28027, 2713057, 1834742, 'offer', 'Colatina', None)\n",
      "(28028, 2956882, 1834742, 'offer', 'Colatina', None)\n",
      "(28029, 2368364, 1834742, 'interview 1', 'Colatina', None)\n",
      "(28030, 2191595, 1834742, 'interview 1', 'Colatina', None)\n",
      "(28031, 2852847, 1834742, 'applied', 'Colatina', None)\n",
      "(28032, 2957618, 1834742, 'applied', 'Colatina', None)\n",
      "(28033, 2686700, 1834742, 'applied', 'Colatina', None)\n",
      "(28034, 2757235, 1834742, 'offer', 'Colatina', None)\n",
      "(28035, 2480358, 1834742, 'applied', 'Colatina', None)\n",
      "(28036, 2735405, 1834742, 'interview 1', 'Colatina', None)\n",
      "(28037, 2880599, 1834742, 'offer', 'Colatina', None)\n",
      "(28038, 2568414, 1834742, 'interview 2', 'Colatina', None)\n",
      "(28039, 2784932, 1834742, 'offer', 'Colatina', None)\n",
      "(28040, 2726265, 1834742, 'interview 2', 'Colatina', None)\n",
      "(28041, 2673024, 1834742, 'applied', 'Colatina', None)\n",
      "(28042, 2919229, 1834742, 'interview 2', 'Colatina', None)\n",
      "(28043, 2561291, 1010829, 'interview 1', 'Olinda', None)\n",
      "(28044, 2140350, 1010829, 'applied', 'Olinda', None)\n",
      "(28045, 2706741, 1010829, 'applied', 'Olinda', None)\n",
      "(28046, 2210852, 1010829, 'applied', 'Olinda', None)\n",
      "(28047, 2893166, 1010829, 'applied', 'Olinda', None)\n",
      "(28048, 2843756, 1010829, 'applied', 'Olinda', None)\n",
      "(28049, 2378461, 1010829, 'applied', 'Olinda', None)\n",
      "(28050, 2154828, 1010829, 'applied', 'Olinda', None)\n",
      "(28051, 2229454, 1010829, 'applied', 'Olinda', None)\n",
      "(28052, 2568024, 1010829, 'applied', 'Olinda', None)\n",
      "(28053, 2514344, 1010829, 'applied', 'Olinda', None)\n",
      "(28054, 2259753, 1010829, 'applied', 'Olinda', None)\n",
      "(28055, 2420021, 1010829, 'applied', 'Olinda', None)\n",
      "(28056, 2117748, 1010829, 'applied', 'Olinda', None)\n",
      "(28057, 2979203, 1010829, 'applied', 'Olinda', None)\n",
      "(28058, 2897059, 1010829, 'applied', 'Olinda', None)\n",
      "(28059, 2840683, 1010829, 'applied', 'Olinda', None)\n",
      "(28060, 2834147, 1010829, 'applied', 'Olinda', None)\n",
      "(28061, 2432791, 1010829, 'applied', 'Olinda', None)\n",
      "(28062, 2586937, 1010829, 'applied', 'Olinda', None)\n",
      "(28063, 2463544, 1010829, 'applied', 'Olinda', None)\n",
      "(28064, 2985307, 1010829, 'applied', 'Olinda', None)\n",
      "(28065, 2499118, 1010829, 'applied', 'Olinda', None)\n",
      "(28066, 2756079, 1010829, 'applied', 'Olinda', None)\n",
      "(28067, 2481657, 1010829, 'applied', 'Olinda', None)\n",
      "(28068, 2304207, 1010829, 'applied', 'Olinda', None)\n",
      "(28069, 2488463, 1010829, 'applied', 'Olinda', None)\n",
      "(28070, 2234264, 1010829, 'applied', 'Olinda', None)\n",
      "(28071, 2792838, 1010829, 'applied', 'Olinda', None)\n",
      "(28072, 2440042, 1010829, 'applied', 'Olinda', None)\n",
      "(28073, 2141468, 1010829, 'applied', 'Olinda', None)\n",
      "(28074, 2264770, 1010829, 'applied', 'Olinda', None)\n",
      "(28075, 2221986, 1010829, 'applied', 'Olinda', None)\n",
      "(28076, 2167685, 1010829, 'applied', 'Olinda', None)\n",
      "(28077, 2576144, 1010829, 'applied', 'Olinda', None)\n",
      "(28078, 2805078, 1010829, 'applied', 'Olinda', None)\n",
      "(28079, 2137011, 1010829, 'applied', 'Olinda', None)\n",
      "(28080, 2195890, 1010829, 'applied', 'Olinda', None)\n",
      "(28081, 2235596, 1010829, 'applied', 'Olinda', None)\n",
      "(28082, 2474107, 1010829, 'applied', 'Olinda', None)\n",
      "(28083, 2642828, 1010829, 'applied', 'Olinda', None)\n",
      "(28084, 2669662, 1010829, 'applied', 'Olinda', None)\n",
      "(28085, 2149862, 1010829, 'applied', 'Olinda', None)\n",
      "(28086, 2491540, 1010829, 'applied', 'Olinda', None)\n",
      "(28094, 2337046, 1702273, 'applied', 'Lontras', 'Consultor Comercial Externo')\n",
      "(28095, 2117616, 1702273, 'interview 1', 'Lontras', 'Consultor Comercial Externo')\n",
      "(28096, 2608749, 1702273, 'interview 1', 'Lontras', 'Consultor Comercial Externo')\n",
      "(28097, 2957644, 1702273, 'interview 1', 'Lontras', 'Consultor Comercial Externo')\n",
      "(28098, 2845176, 1702273, 'interview 1', 'Lontras', 'Consultor Comercial Externo')\n",
      "(28099, 2381608, 1702273, 'interview 1', 'Lontras', 'Consultor Comercial Externo')\n",
      "(28100, 2974282, 1702273, 'interview 1', 'Lontras', 'Consultor Comercial Externo')\n",
      "(28101, 2554792, 1702273, 'applied', 'Lontras', 'Consultor Comercial Externo')\n",
      "(28102, 2122327, 1702273, 'interview 1', 'Lontras', 'Consultor Comercial Externo')\n",
      "(28103, 2285518, 1702273, 'interview 1', 'Lontras', 'Consultor Comercial Externo')\n",
      "(28104, 2939175, 1702273, 'offer', 'Lontras', 'Consultor Comercial Externo')\n",
      "(28105, 2447748, 1702273, 'offer', 'Lontras', 'Consultor Comercial Externo')\n",
      "(28106, 2219670, 1702273, 'applied', 'Lontras', 'Consultor Comercial Externo')\n",
      "(28107, 2425023, 1702273, 'applied', 'Lontras', 'Consultor Comercial Externo')\n",
      "(28108, 2196143, 1702273, 'interview 2', 'Lontras', 'Consultor Comercial Externo')\n",
      "(28109, 2807019, 1038300, 'offer', 'Catalão', 'Agente Stone')\n",
      "(28110, 2090390, 1038300, 'offer', 'Catalão', 'Agente Stone')\n",
      "(28111, 2553352, 1038300, 'offer', 'Catalão', 'Agente Stone')\n",
      "(28112, 2031655, 1038300, 'applied', 'Catalão', 'Agente Stone')\n",
      "(28113, 2152519, 1038300, 'applied', 'Catalão', 'Agente Stone')\n",
      "(28114, 2694958, 1947007, 'offer', 'São Mateus', None)\n",
      "(28115, 2268606, 1947007, 'applied', 'São Mateus', None)\n",
      "(28116, 2583189, 1947007, 'applied', 'São Mateus', None)\n",
      "(28117, 2701535, 1947007, 'applied', 'São Mateus', None)\n",
      "(28118, 2553613, 1947007, 'interview 1', 'São Mateus', None)\n",
      "(28119, 2379821, 1947007, 'interview 1', 'São Mateus', None)\n",
      "(28120, 2952090, 1947007, 'offer', 'São Mateus', None)\n",
      "(28121, 2506119, 1947007, 'interview 1', 'São Mateus', None)\n",
      "(28122, 2829034, 1947007, 'offer', 'São Mateus', None)\n",
      "(28123, 2437556, 1947007, 'applied', 'São Mateus', None)\n",
      "(28124, 2190429, 1947007, 'applied', 'São Mateus', None)\n",
      "(28125, 2595902, 1947007, 'applied', 'São Mateus', None)\n",
      "(28126, 2576430, 1947007, 'offer', 'São Mateus', None)\n",
      "(28127, 2312828, 1947007, 'applied', 'São Mateus', None)\n",
      "(28128, 2804951, 1947007, 'applied', 'São Mateus', None)\n",
      "(28129, 2926621, 1079680, 'applied', 'Bento Gonçalves', 'Consultor Comercial Externo')\n",
      "(28130, 2938832, 1079680, 'interview 1', 'Bento Gonçalves', 'Consultor Comercial Externo')\n",
      "(28131, 2243940, 1079680, 'applied', 'Bento Gonçalves', 'Consultor Comercial Externo')\n",
      "(28132, 2483004, 1079680, 'applied', 'Bento Gonçalves', 'Consultor Comercial Externo')\n",
      "(28133, 2272343, 1398633, 'interview 1', 'Igarapava', 'Agente Stone')\n",
      "(28134, 2615518, 1398633, 'interview 1', 'Igarapava', 'Agente Stone')\n",
      "(28135, 2193791, 1398633, 'applied', 'Igarapava', 'Agente Stone')\n",
      "(28136, 2360307, 1382496, 'applied', 'Porto Velho', 'Agente Stone')\n",
      "(28137, 2634788, 1382496, 'applied', 'Porto Velho', 'Agente Stone')\n",
      "(28138, 2151136, 1382496, 'applied', 'Porto Velho', 'Agente Stone')\n",
      "(28139, 2015377, 1382496, 'interview 1', 'Porto Velho', 'Agente Stone')\n",
      "(28140, 2252444, 1382496, 'applied', 'Porto Velho', 'Agente Stone')\n",
      "(28141, 2184437, 1382496, 'applied', 'Porto Velho', 'Agente Stone')\n",
      "(28142, 2911525, 1382496, 'interview 1', 'Porto Velho', 'Agente Stone')\n",
      "(28143, 2641031, 1382496, 'offer', 'Porto Velho', 'Agente Stone')\n",
      "(28144, 2124355, 1382496, 'applied', 'Porto Velho', 'Agente Stone')\n",
      "(28145, 2517459, 1382496, 'applied', 'Porto Velho', 'Agente Stone')\n",
      "(28146, 2867460, 1382496, 'offer', 'Porto Velho', 'Agente Stone')\n",
      "(28147, 2048777, 1382496, 'applied', 'Porto Velho', 'Agente Stone')\n",
      "(28148, 2063196, 1382496, 'offer', 'Porto Velho', 'Agente Stone')\n",
      "(28149, 2681776, 1382496, 'interview 2', 'Porto Velho', 'Agente Stone')\n",
      "(28150, 2251912, 1409554, 'applied', 'Nova Friburgo', 'Consultor Comercial Externo')\n",
      "(28151, 2167057, 1409554, 'applied', 'Nova Friburgo', 'Consultor Comercial Externo')\n",
      "(28152, 2560051, 1409554, 'interview 1', 'Nova Friburgo', 'Consultor Comercial Externo')\n",
      "(28153, 2629153, 1409554, 'interview 1', 'Nova Friburgo', 'Consultor Comercial Externo')\n",
      "(28154, 2755658, 1409554, 'interview 1', 'Nova Friburgo', 'Consultor Comercial Externo')\n",
      "(28155, 2639283, 1409554, 'applied', 'Nova Friburgo', 'Consultor Comercial Externo')\n",
      "(28156, 2379998, 1409554, 'interview 1', 'Nova Friburgo', 'Consultor Comercial Externo')\n",
      "(28157, 2913071, 1409554, 'interview 1', 'Nova Friburgo', 'Consultor Comercial Externo')\n",
      "(28158, 2173326, 1409554, 'interview 1', 'Nova Friburgo', 'Consultor Comercial Externo')\n",
      "(28159, 2258908, 1409554, 'interview 1', 'Nova Friburgo', 'Consultor Comercial Externo')\n",
      "(28160, 2371024, 1409554, 'interview 1', 'Nova Friburgo', 'Consultor Comercial Externo')\n",
      "(28161, 2716033, 1409554, 'interview 1', 'Nova Friburgo', 'Consultor Comercial Externo')\n",
      "(28162, 2387262, 1409554, 'interview 1', 'Nova Friburgo', 'Consultor Comercial Externo')\n",
      "(28163, 2138848, 1409554, 'applied', 'Nova Friburgo', 'Consultor Comercial Externo')\n",
      "(28164, 2825002, 1409554, 'offer', 'Nova Friburgo', 'Consultor Comercial Externo')\n",
      "(28165, 2807067, 1409554, 'interview 1', 'Nova Friburgo', 'Consultor Comercial Externo')\n",
      "(28166, 2268622, 1409554, 'interview 1', 'Nova Friburgo', 'Consultor Comercial Externo')\n",
      "(28167, 2406320, 1409554, 'applied', 'Nova Friburgo', 'Consultor Comercial Externo')\n",
      "(28168, 2609406, 1409554, 'interview 1', 'Nova Friburgo', 'Consultor Comercial Externo')\n",
      "(28169, 2767605, 1409554, 'interview 1', 'Nova Friburgo', 'Consultor Comercial Externo')\n",
      "(28170, 2174392, 1409554, 'applied', 'Nova Friburgo', 'Consultor Comercial Externo')\n",
      "(28171, 2352984, 1409554, 'interview 1', 'Nova Friburgo', 'Consultor Comercial Externo')\n",
      "(28172, 2863493, 1409554, 'interview 1', 'Nova Friburgo', 'Consultor Comercial Externo')\n",
      "(28173, 2106499, 1409554, 'interview 1', 'Nova Friburgo', 'Consultor Comercial Externo')\n",
      "(28174, 2475656, 1409554, 'interview 1', 'Nova Friburgo', 'Consultor Comercial Externo')\n",
      "(28175, 2450259, 1409554, 'interview 1', 'Nova Friburgo', 'Consultor Comercial Externo')\n",
      "(28176, 2732220, 1409554, 'interview 1', 'Nova Friburgo', 'Consultor Comercial Externo')\n",
      "(28177, 2706570, 1409554, 'applied', 'Nova Friburgo', 'Consultor Comercial Externo')\n",
      "(28178, 2756104, 1409554, 'interview 1', 'Nova Friburgo', 'Consultor Comercial Externo')\n",
      "(28179, 2086766, 1409554, 'applied', 'Nova Friburgo', 'Consultor Comercial Externo')\n",
      "(28180, 2398640, 1409554, 'interview 1', 'Nova Friburgo', 'Consultor Comercial Externo')\n",
      "(28181, 2562915, 1409554, 'applied', 'Nova Friburgo', 'Consultor Comercial Externo')\n",
      "(28182, 2206540, 1409554, 'interview 1', 'Nova Friburgo', 'Consultor Comercial Externo')\n",
      "(28183, 2286280, 1409554, 'interview 1', 'Nova Friburgo', 'Consultor Comercial Externo')\n",
      "(28184, 2718929, 1409554, 'interview 1', 'Nova Friburgo', 'Consultor Comercial Externo')\n",
      "(28185, 2528261, 1409554, 'interview 1', 'Nova Friburgo', 'Consultor Comercial Externo')\n",
      "(28186, 2164992, 1409554, 'interview 1', 'Nova Friburgo', 'Consultor Comercial Externo')\n",
      "(28187, 2227073, 1409554, 'interview 1', 'Nova Friburgo', 'Consultor Comercial Externo')\n",
      "(28188, 2402523, 1409554, 'interview 1', 'Nova Friburgo', 'Consultor Comercial Externo')\n",
      "(28189, 2056340, 1409554, 'interview 1', 'Nova Friburgo', 'Consultor Comercial Externo')\n",
      "(28190, 2073112, 1409554, 'interview 1', 'Nova Friburgo', 'Consultor Comercial Externo')\n",
      "(28191, 2743233, 1409554, 'applied', 'Nova Friburgo', 'Consultor Comercial Externo')\n",
      "(28192, 2231749, 1409554, 'interview 1', 'Nova Friburgo', 'Consultor Comercial Externo')\n",
      "(28193, 2824448, 1409554, 'interview 1', 'Nova Friburgo', 'Consultor Comercial Externo')\n",
      "(28194, 2920997, 1409554, 'applied', 'Nova Friburgo', 'Consultor Comercial Externo')\n",
      "(28195, 2615415, 1409554, 'interview 1', 'Nova Friburgo', 'Consultor Comercial Externo')\n",
      "(28196, 2771509, 1409554, 'interview 1', 'Nova Friburgo', 'Consultor Comercial Externo')\n",
      "(28197, 2170306, 1409554, 'interview 1', 'Nova Friburgo', 'Consultor Comercial Externo')\n",
      "(28198, 2490400, 1409554, 'applied', 'Nova Friburgo', 'Consultor Comercial Externo')\n",
      "(28199, 2143456, 1409554, 'applied', 'Nova Friburgo', 'Consultor Comercial Externo')\n",
      "(28200, 2573701, 1409554, 'interview 1', 'Nova Friburgo', 'Consultor Comercial Externo')\n",
      "(28201, 2726761, 1409554, 'interview 1', 'Nova Friburgo', 'Consultor Comercial Externo')\n",
      "(28202, 2803146, 1409554, 'interview 1', 'Nova Friburgo', 'Consultor Comercial Externo')\n",
      "(28203, 2574162, 1409554, 'interview 1', 'Nova Friburgo', 'Consultor Comercial Externo')\n",
      "(28204, 2319071, 1409554, 'interview 1', 'Nova Friburgo', 'Consultor Comercial Externo')\n",
      "(28205, 2655178, 1409554, 'interview 1', 'Nova Friburgo', 'Consultor Comercial Externo')\n",
      "(28206, 2359799, 1409554, 'interview 1', 'Nova Friburgo', 'Consultor Comercial Externo')\n",
      "(28207, 2086406, 1409554, 'interview 1', 'Nova Friburgo', 'Consultor Comercial Externo')\n",
      "(28208, 2144486, 1409554, 'interview 1', 'Nova Friburgo', 'Consultor Comercial Externo')\n",
      "(28209, 2554914, 1409554, 'interview 1', 'Nova Friburgo', 'Consultor Comercial Externo')\n",
      "(28210, 2826454, 1409554, 'interview 1', 'Nova Friburgo', 'Consultor Comercial Externo')\n",
      "(28211, 2703693, 1409554, 'interview 1', 'Nova Friburgo', 'Consultor Comercial Externo')\n",
      "(28212, 2084374, 1409554, 'interview 1', 'Nova Friburgo', 'Consultor Comercial Externo')\n",
      "(28213, 2114481, 1409554, 'interview 1', 'Nova Friburgo', 'Consultor Comercial Externo')\n",
      "(28214, 2771321, 1409554, 'applied', 'Nova Friburgo', 'Consultor Comercial Externo')\n",
      "(28215, 2481620, 1409554, 'interview 1', 'Nova Friburgo', 'Consultor Comercial Externo')\n",
      "(28216, 2440684, 1409554, 'interview 1', 'Nova Friburgo', 'Consultor Comercial Externo')\n",
      "(28217, 2016306, 1409554, 'interview 1', 'Nova Friburgo', 'Consultor Comercial Externo')\n",
      "(28218, 2050755, 1409554, 'interview 1', 'Nova Friburgo', 'Consultor Comercial Externo')\n",
      "(28219, 2604554, 1409554, 'interview 1', 'Nova Friburgo', 'Consultor Comercial Externo')\n",
      "(28220, 2205484, 1409554, 'interview 1', 'Nova Friburgo', 'Consultor Comercial Externo')\n",
      "(28221, 2575857, 1409554, 'interview 1', 'Nova Friburgo', 'Consultor Comercial Externo')\n",
      "(28222, 2731114, 1409554, 'offer', 'Nova Friburgo', 'Consultor Comercial Externo')\n",
      "(28223, 2207182, 1409554, 'interview 2', 'Nova Friburgo', 'Consultor Comercial Externo')\n",
      "(28224, 2539348, 1409554, 'applied', 'Nova Friburgo', 'Consultor Comercial Externo')\n",
      "(28225, 2020473, 1409554, 'interview 2', 'Nova Friburgo', 'Consultor Comercial Externo')\n",
      "(28226, 2862935, 1409554, 'interview 2', 'Nova Friburgo', 'Consultor Comercial Externo')\n",
      "(28227, 2237582, 1409554, 'interview 2', 'Nova Friburgo', 'Consultor Comercial Externo')\n",
      "(28228, 2337833, 1409554, 'interview 2', 'Nova Friburgo', 'Consultor Comercial Externo')\n",
      "(28229, 2760757, 1409554, 'interview 2', 'Nova Friburgo', 'Consultor Comercial Externo')\n",
      "(28230, 2165053, 1409554, 'interview 2', 'Nova Friburgo', 'Consultor Comercial Externo')\n",
      "(28231, 2732955, 1409554, 'applied', 'Nova Friburgo', 'Consultor Comercial Externo')\n",
      "(28232, 2095116, 1409554, 'applied', 'Nova Friburgo', 'Consultor Comercial Externo')\n",
      "(28233, 2074270, 1409554, 'interview 2', 'Nova Friburgo', 'Consultor Comercial Externo')\n",
      "(28234, 2881817, 1409554, 'interview 2', 'Nova Friburgo', 'Consultor Comercial Externo')\n",
      "(28235, 2156915, 1409554, 'interview 2', 'Nova Friburgo', 'Consultor Comercial Externo')\n",
      "(28236, 2790381, 1409554, 'interview 2', 'Nova Friburgo', 'Consultor Comercial Externo')\n",
      "(28237, 2236817, 1409554, 'interview 2', 'Nova Friburgo', 'Consultor Comercial Externo')\n",
      "(28238, 2407687, 1409554, 'interview 2', 'Nova Friburgo', 'Consultor Comercial Externo')\n",
      "(28239, 2476798, 1409554, 'applied', 'Nova Friburgo', 'Consultor Comercial Externo')\n",
      "(28240, 2701717, 1409554, 'interview 2', 'Nova Friburgo', 'Consultor Comercial Externo')\n",
      "(28241, 2611366, 1409554, 'applied', 'Nova Friburgo', 'Consultor Comercial Externo')\n",
      "(28242, 2429346, 1409554, 'interview 2', 'Nova Friburgo', 'Consultor Comercial Externo')\n",
      "(28243, 2512211, 1409554, 'interview 2', 'Nova Friburgo', 'Consultor Comercial Externo')\n",
      "(28244, 2301786, 1409554, 'interview 2', 'Nova Friburgo', 'Consultor Comercial Externo')\n",
      "(28245, 2359879, 1409554, 'applied', 'Nova Friburgo', 'Consultor Comercial Externo')\n",
      "(28246, 2921380, 1409554, 'interview 2', 'Nova Friburgo', 'Consultor Comercial Externo')\n",
      "(28247, 2452530, 1409554, 'interview 2', 'Nova Friburgo', 'Consultor Comercial Externo')\n",
      "(28248, 2874500, 1409554, 'applied', 'Nova Friburgo', 'Consultor Comercial Externo')\n",
      "(28249, 2798380, 1409554, 'interview 2', 'Nova Friburgo', 'Consultor Comercial Externo')\n",
      "(28250, 2941968, 1409554, 'applied', 'Nova Friburgo', 'Consultor Comercial Externo')\n",
      "(28251, 2810705, 1409554, 'interview 2', 'Nova Friburgo', 'Consultor Comercial Externo')\n",
      "(28252, 2996352, 1409554, 'interview 2', 'Nova Friburgo', 'Consultor Comercial Externo')\n",
      "(28253, 2827432, 1409554, 'interview 2', 'Nova Friburgo', 'Consultor Comercial Externo')\n",
      "(28254, 2537355, 1851820, 'applied', 'Águas Lindas de Goiás', 'Agente Stone')\n",
      "(28255, 2114313, 1851820, 'offer', 'Águas Lindas de Goiás', 'Agente Stone')\n",
      "(28256, 2756888, 1851820, 'applied', 'Águas Lindas de Goiás', 'Agente Stone')\n",
      "(28257, 2648359, 1851820, 'offer', 'Águas Lindas de Goiás', 'Agente Stone')\n",
      "(28258, 2543620, 1851820, 'interview 2', 'Águas Lindas de Goiás', 'Agente Stone')\n",
      "(28259, 2443409, 1036438, 'applied', 'Barretos', 'Consultor Comercial')\n",
      "(28260, 2903582, 1036438, 'interview 1', 'Barretos', 'Consultor Comercial')\n",
      "(28261, 2490884, 1036438, 'applied', 'Barretos', 'Consultor Comercial')\n",
      "(28262, 2198669, 1036438, 'interview 1', 'Barretos', 'Consultor Comercial')\n",
      "(28263, 2410591, 1036438, 'applied', 'Barretos', 'Consultor Comercial')\n",
      "(28264, 2475036, 1036438, 'interview 1', 'Barretos', 'Consultor Comercial')\n",
      "(28265, 2710048, 1036438, 'applied', 'Barretos', 'Consultor Comercial')\n",
      "(28266, 2475246, 1036438, 'applied', 'Barretos', 'Consultor Comercial')\n",
      "(28267, 2764326, 1475058, 'applied', 'Conceição das Alagoas', 'Agente Stone')\n",
      "(28268, 2756732, 1475058, 'applied', 'Conceição das Alagoas', 'Agente Stone')\n",
      "(28269, 2713905, 1475058, 'applied', 'Conceição das Alagoas', 'Agente Stone')\n",
      "(28270, 2453020, 1475058, 'applied', 'Conceição das Alagoas', 'Agente Stone')\n",
      "(28271, 2015616, 1350156, 'applied', 'Várzea Grande', 'Agente Stone')\n",
      "(28272, 2732617, 1350156, 'offer', 'Várzea Grande', 'Agente Stone')\n",
      "(28273, 2045900, 1350156, 'offer', 'Várzea Grande', 'Agente Stone')\n",
      "(28274, 2685141, 1350156, 'applied', 'Várzea Grande', 'Agente Stone')\n",
      "(28275, 2876189, 1350156, 'applied', 'Várzea Grande', 'Agente Stone')\n",
      "(28276, 2375346, 1350156, 'offer', 'Várzea Grande', 'Agente Stone')\n",
      "(28277, 2146541, 1769304, 'applied', \"Alta Floresta D'Oeste\", 'Agente Stone')\n",
      "(28278, 2630914, 1769304, 'applied', \"Alta Floresta D'Oeste\", 'Agente Stone')\n",
      "(28279, 2777964, 1304827, 'offer', 'Aracruz', None)\n",
      "(28280, 2730947, 1304827, 'offer', 'Aracruz', None)\n",
      "(28281, 2606073, 1391033, 'interview 1', 'Primavera do Leste', 'Agente Stone')\n",
      "(28282, 2909679, 1391033, 'offer', 'Primavera do Leste', 'Agente Stone')\n",
      "(28283, 2257231, 1391033, 'interview 2', 'Primavera do Leste', 'Agente Stone')\n",
      "(28284, 2247124, 1674192, 'interview 1', 'Concórdia', 'Consultor Comercial Externo')\n",
      "(28285, 2424231, 1674192, 'interview 2', 'Concórdia', 'Consultor Comercial Externo')\n",
      "(28286, 2814160, 1881895, 'offer', 'Itumbiara', 'Agente Stone')\n",
      "(28287, 2496234, 1230796, 'interview 2', 'Nova Mutum', 'Agente Stone')\n"
     ]
    }
   ],
   "source": [
    "result_set = db_engine.execute(\"SELECT * FROM stone\")  \n",
    "for r in result_set:  \n",
    "    print(r)"
   ]
  },
  {
   "cell_type": "code",
   "execution_count": 66,
   "metadata": {},
   "outputs": [
    {
     "output_type": "stream",
     "name": "stdout",
     "text": [
      "('xxxxxxx', 'yyyyyyy', 'interview n', 'Carangola', 'Agente Stone')\n"
     ]
    },
    {
     "output_type": "execute_result",
     "data": {
      "text/plain": [
       "<sqlalchemy.engine.result.ResultProxy at 0x7fe8c3aa5e80>"
      ]
     },
     "metadata": {},
     "execution_count": 66
    }
   ],
   "source": [
    "#db_engine.execute(\"CREATE TABLE IF NOT EXISTS stone (application_id text, job_id text, application_stage text, cidade text, cargo text)\")  \n",
    "db_engine.execute(\"DROP TABLE IF EXISTS stone\")\n",
    "db_engine.execute(\"CREATE TABLE stone (application_id text, job_id text, application_stage text, cidade text, cargo text)\")\n",
    "\n",
    "db_engine.execute(\"INSERT INTO stone (application_id, job_id, application_stage, cidade, cargo) VALUES ('xxxxxxx', 'yyyyyyy', 'interview n', 'Carangola', 'Agente Stone')\")\n",
    "\n",
    "# Read\n",
    "result_set = db_engine.execute(\"SELECT * FROM stone\")  \n",
    "for r in result_set:  \n",
    "    print(r)\n",
    "\n",
    "# Update\n",
    "db_engine.execute(\"UPDATE stone SET application_id='zzzzzzzz' WHERE cargo='Agente Stone'\")\n",
    "\n",
    "# Delete\n",
    "#db_engine.execute(\"DELETE FROM films WHERE year='2016'\")  \n"
   ]
  },
  {
   "cell_type": "code",
   "execution_count": 37,
   "metadata": {},
   "outputs": [
    {
     "output_type": "error",
     "ename": "AttributeError",
     "evalue": "'Engine' object has no attribute 'tables'",
     "traceback": [
      "\u001b[0;31m---------------------------------------------------------------------------\u001b[0m",
      "\u001b[0;31mAttributeError\u001b[0m                            Traceback (most recent call last)",
      "\u001b[0;32m<ipython-input-37-fe19bcb953e2>\u001b[0m in \u001b[0;36m<module>\u001b[0;34m\u001b[0m\n\u001b[0;32m----> 1\u001b[0;31m \u001b[0mdb_engine\u001b[0m\u001b[0;34m.\u001b[0m\u001b[0mtables\u001b[0m\u001b[0;34m\u001b[0m\u001b[0;34m\u001b[0m\u001b[0m\n\u001b[0m",
      "\u001b[0;31mAttributeError\u001b[0m: 'Engine' object has no attribute 'tables'"
     ]
    }
   ],
   "source": [
    "db"
   ]
  },
  {
   "cell_type": "code",
   "execution_count": 26,
   "metadata": {},
   "outputs": [
    {
     "output_type": "error",
     "ename": "AttributeError",
     "evalue": "'str' object has no attribute 'execute'",
     "traceback": [
      "\u001b[0;31m---------------------------------------------------------------------------\u001b[0m",
      "\u001b[0;31mAttributeError\u001b[0m                            Traceback (most recent call last)",
      "\u001b[0;32m<ipython-input-26-3b8d8f06035c>\u001b[0m in \u001b[0;36m<module>\u001b[0;34m\u001b[0m\n\u001b[1;32m      2\u001b[0m \u001b[0;34m\u001b[0m\u001b[0m\n\u001b[1;32m      3\u001b[0m \u001b[0;31m# Create\u001b[0m\u001b[0;34m\u001b[0m\u001b[0;34m\u001b[0m\u001b[0;34m\u001b[0m\u001b[0m\n\u001b[0;32m----> 4\u001b[0;31m \u001b[0mdb\u001b[0m\u001b[0;34m.\u001b[0m\u001b[0mexecute\u001b[0m\u001b[0;34m(\u001b[0m\u001b[0;34m\"CREATE TABLE IF NOT EXISTS films (title text, director text, year text)\"\u001b[0m\u001b[0;34m)\u001b[0m\u001b[0;34m\u001b[0m\u001b[0;34m\u001b[0m\u001b[0m\n\u001b[0m\u001b[1;32m      5\u001b[0m \u001b[0mdb\u001b[0m\u001b[0;34m.\u001b[0m\u001b[0mexecute\u001b[0m\u001b[0;34m(\u001b[0m\u001b[0;34m\"INSERT INTO films (title, director, year) VALUES ('Doctor Strange', 'Scott Derrickson', '2016')\"\u001b[0m\u001b[0;34m)\u001b[0m\u001b[0;34m\u001b[0m\u001b[0;34m\u001b[0m\u001b[0m\n\u001b[1;32m      6\u001b[0m \u001b[0;34m\u001b[0m\u001b[0m\n",
      "\u001b[0;31mAttributeError\u001b[0m: 'str' object has no attribute 'execute'"
     ]
    }
   ],
   "source": [
    "from sqlalchemy import create_engine\n",
    "\n",
    "# Create \n",
    "db_engine.execute(\"CREATE TABLE IF NOT EXISTS films (title text, director text, year text)\")  \n",
    "db_engine.execute(\"INSERT INTO films (title, director, year) VALUES ('Doctor Strange', 'Scott Derrickson', '2016')\")\n",
    "\n",
    "# Read\n",
    "result_set = db.execute(\"SELECT * FROM films\")  \n",
    "for r in result_set:  \n",
    "    print(r)\n",
    "\n",
    "# Update\n",
    "db.execute(\"UPDATE films SET title='Some2016Film' WHERE year='2016'\")\n",
    "\n",
    "# Delete\n",
    "db.execute(\"DELETE FROM films WHERE year='2016'\") "
   ]
  },
  {
   "cell_type": "code",
   "execution_count": null,
   "metadata": {},
   "outputs": [],
   "source": []
  },
  {
   "cell_type": "code",
   "execution_count": null,
   "metadata": {},
   "outputs": [],
   "source": []
  },
  {
   "cell_type": "code",
   "execution_count": null,
   "metadata": {},
   "outputs": [],
   "source": []
  },
  {
   "cell_type": "code",
   "execution_count": null,
   "metadata": {},
   "outputs": [],
   "source": [
    "statement = films.insert().values(title=\"Doctor Strange\", director=\"Scott Derrickson\", year=\"2016\")  \n",
    "conn.execute(statement)  "
   ]
  }
 ],
 "metadata": {
  "kernelspec": {
   "display_name": "Python 3",
   "language": "python",
   "name": "python3"
  },
  "language_info": {
   "codemirror_mode": {
    "name": "ipython",
    "version": 3
   },
   "file_extension": ".py",
   "mimetype": "text/x-python",
   "name": "python",
   "nbconvert_exporter": "python",
   "pygments_lexer": "ipython3",
   "version": "3.8.3-final"
  }
 },
 "nbformat": 4,
 "nbformat_minor": 4
}