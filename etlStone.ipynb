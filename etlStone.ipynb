{
 "cells": [
  {
   "cell_type": "code",
   "execution_count": 11,
   "metadata": {},
   "outputs": [],
   "source": [
    "import requests\n",
    "import numpy as np\n",
    "import pandas as pd\n",
    "import sqlalchemy\n",
    "from sqlalchemy import create_engine, Table, MetaData\n",
    "from sqlalchemy.orm import scoped_session, sessionmaker"
   ]
  },
  {
   "source": [
    "# E"
   ],
   "cell_type": "markdown",
   "metadata": {}
  },
  {
   "cell_type": "code",
   "execution_count": 2,
   "metadata": {},
   "outputs": [],
   "source": [
    "df_vagas = pd.read_csv(\"../stone2/data/jobs.csv\", sep=\";\") \n",
    "df_inscritos = pd.read_csv(\"../stone2/data/applications.csv\", sep=\";\")"
   ]
  },
  {
   "source": [
    "# T"
   ],
   "cell_type": "markdown",
   "metadata": {}
  },
  {
   "source": [
    "## Functions"
   ],
   "cell_type": "markdown",
   "metadata": {}
  },
  {
   "cell_type": "code",
   "execution_count": 7,
   "metadata": {},
   "outputs": [],
   "source": [
    "## functions.py\n",
    "def cleanJob(col):\n",
    "    reps = {\n",
    "    'valores_validos': ['Consultor Comercial Externo',\n",
    "                        'Consultor Comercial',\n",
    "                        'Agente Stone'],\n",
    "    'valor_reposicao': np.nan\n",
    "    }\n",
    "    col = col.replace('Consultor Comercial  Externo', 'Consultor Comercial Externo')\n",
    "    col = col.where(col.isin(reps['valores_validos']), reps['valor_reposicao'])\n",
    "    return col\n",
    "\n",
    "getCity = lambda lista: lista[-1].strip()\n",
    "getJob = lambda lista: lista[-2].strip()\n",
    "    "
   ]
  },
  {
   "source": [
    "## Enriquece cidade"
   ],
   "cell_type": "markdown",
   "metadata": {}
  },
  {
   "cell_type": "code",
   "execution_count": 8,
   "metadata": {},
   "outputs": [],
   "source": [
    "splitted_job = df_vagas.job_name.str.split(\"-\")\n",
    "df_vagas['cidade'] = [getCity(row) for row in splitted_job]\n",
    "df_vagas['cargo'] = [getJob(row) if len(row) > 1 else None for row in splitted_job]"
   ]
  },
  {
   "source": [
    "## Limpa job"
   ],
   "cell_type": "markdown",
   "metadata": {}
  },
  {
   "cell_type": "code",
   "execution_count": 9,
   "metadata": {},
   "outputs": [],
   "source": [
    "df_vagas['cargo'] = cleanJob(df_vagas['cargo'])"
   ]
  },
  {
   "source": [
    "## Merge enriquecimento"
   ],
   "cell_type": "markdown",
   "metadata": {}
  },
  {
   "cell_type": "code",
   "execution_count": 10,
   "metadata": {},
   "outputs": [],
   "source": [
    "df_inscritosVagas = df_inscritos.merge(df_vagas, left_on='job_id', right_on='job_id').drop(columns=['job_name'])"
   ]
  },
  {
   "source": [
    "# L"
   ],
   "cell_type": "markdown",
   "metadata": {}
  },
  {
   "source": [
    "## Configura conexão"
   ],
   "cell_type": "markdown",
   "metadata": {}
  },
  {
   "cell_type": "code",
   "execution_count": 14,
   "metadata": {},
   "outputs": [
    {
     "output_type": "execute_result",
     "data": {
      "text/plain": [
       "<sqlalchemy.engine.base.Connection at 0x7f4cfd8396d0>"
      ]
     },
     "metadata": {},
     "execution_count": 14
    }
   ],
   "source": [
    "db = 'postgresql+psycopg2'\n",
    "user = 'airflow'\n",
    "pwd = 'airflow'\n",
    "host = '0.0.0.0'\n",
    "port = '5432'\n",
    "db_name = 'airflow'\n",
    "\n",
    "db_engine = create_engine(f\"{db}://{user}:{pwd}@{host}:{port}/{db_name}\")\n",
    "db_engine.connect()"
   ]
  },
  {
   "source": [
    "## Insere no PstgreSQL"
   ],
   "cell_type": "markdown",
   "metadata": {}
  },
  {
   "cell_type": "code",
   "execution_count": 15,
   "metadata": {},
   "outputs": [],
   "source": [
    "df_inscritosVagas.to_sql(\"stone\", db_engine, if_exists='replace')#if_exists='append' em caso de rotina "
   ]
  },
  {
   "cell_type": "code",
   "execution_count": null,
   "metadata": {},
   "outputs": [],
   "source": []
  }
 ],
 "metadata": {
  "kernelspec": {
   "display_name": "Python 3",
   "language": "python",
   "name": "python3"
  },
  "language_info": {
   "codemirror_mode": {
    "name": "ipython",
    "version": 3
   },
   "file_extension": ".py",
   "mimetype": "text/x-python",
   "name": "python",
   "nbconvert_exporter": "python",
   "pygments_lexer": "ipython3",
   "version": "3.8.3-final"
  }
 },
 "nbformat": 4,
 "nbformat_minor": 4
}