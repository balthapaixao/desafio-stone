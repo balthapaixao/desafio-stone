{
 "metadata": {
  "language_info": {
   "codemirror_mode": {
    "name": "ipython",
    "version": 3
   },
   "file_extension": ".py",
   "mimetype": "text/x-python",
   "name": "python",
   "nbconvert_exporter": "python",
   "pygments_lexer": "ipython3",
   "version": "3.8.3-final"
  },
  "orig_nbformat": 2,
  "kernelspec": {
   "name": "python3",
   "display_name": "Python 3.8.3 64-bit ('base': conda)",
   "metadata": {
    "interpreter": {
     "hash": "885ee729168ecc3d3488290083406e71f6e1f7e73f49711208908f2deace8a1f"
    }
   }
  }
 },
 "nbformat": 4,
 "nbformat_minor": 2,
 "cells": [
  {
   "cell_type": "code",
   "execution_count": 1,
   "metadata": {},
   "outputs": [],
   "source": [
    "import requests\n",
    "import numpy as np\n",
    "import pandas as pd\n",
    "import sqlalchemy\n",
    "from sqlalchemy import create_engine, Table, MetaData\n",
    "from sqlalchemy.orm import scoped_session, sessionmaker"
   ]
  },
  {
   "cell_type": "code",
   "execution_count": 4,
   "metadata": {},
   "outputs": [],
   "source": [
    "def connectDB():\n",
    "    db = 'postgresql+psycopg2'\n",
    "    user = 'airflow'\n",
    "    pwd = 'airflow'\n",
    "    host = '0.0.0.0'\n",
    "    port = '5432'\n",
    "    db_name = 'airflow'\n",
    "\n",
    "    db_engine = create_engine(f\"{db}://{user}:{pwd}@{host}:{port}/{db_name}\")\n",
    "    db_engine.connect()\n",
    "    return db_engine"
   ]
  },
  {
   "cell_type": "code",
   "execution_count": 5,
   "metadata": {},
   "outputs": [],
   "source": [
    "engine = connectDB()"
   ]
  },
  {
   "cell_type": "code",
   "execution_count": 7,
   "metadata": {},
   "outputs": [
    {
     "output_type": "execute_result",
     "data": {
      "text/plain": [
       "['alembic_version',\n",
       " 'dag_pickle',\n",
       " 'import_error',\n",
       " 'job',\n",
       " 'slot_pool',\n",
       " 'chart',\n",
       " 'known_event_type',\n",
       " 'known_event',\n",
       " 'xcom',\n",
       " 'log',\n",
       " 'dag_run',\n",
       " 'sla_miss',\n",
       " 'connection',\n",
       " 'variable',\n",
       " 'task_fail',\n",
       " 'kube_resource_version',\n",
       " 'kube_worker_uuid',\n",
       " 'task_instance',\n",
       " 'task_reschedule',\n",
       " 'users',\n",
       " 'serialized_dag',\n",
       " 'ibge',\n",
       " 'dag',\n",
       " 'dag_tag',\n",
       " 'stone']"
      ]
     },
     "metadata": {},
     "execution_count": 7
    }
   ],
   "source": [
    "engine.table_names()"
   ]
  },
  {
   "cell_type": "code",
   "execution_count": 9,
   "metadata": {},
   "outputs": [
    {
     "output_type": "execute_result",
     "data": {
      "text/plain": [
       "[(28288,)]"
      ]
     },
     "metadata": {},
     "execution_count": 9
    }
   ],
   "source": [
    "engine.execute(\"select count(*) from stone\").fetchall()"
   ]
  }
 ]
}